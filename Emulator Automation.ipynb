{
 "cells": [
  {
   "cell_type": "code",
   "execution_count": 92,
   "metadata": {},
   "outputs": [],
   "source": [
    "import os, subprocess, random, cv2, numpy\n",
    "from PIL import Image\n",
    "from io import BytesIO\n",
    "from time import sleep\n",
    "import matplotlib.pyplot as plt\n",
    "\n",
    "val = {'start_loc':(800,850),'start_color':(111,57,0),\n",
    "       'loss_loc':(800,270),'loss_color':(99,86,131),\n",
    "       'win_loc':(800,270),'win_color':(251,253,153),\n",
    "       'refill_loc':(960,420),'refill_color':(38,38,38),\n",
    "       'want_loc':(1065,540),'want_color':(181,11,11),\n",
    "       'urg_loc':(1100,480),'urg_color':(27,83,187)}\n",
    "\n",
    "class stats:\n",
    "    runs = 0\n",
    "    lost = 0\n",
    "    refills = 0\n",
    "\n",
    "def start(emu):\n",
    "    os.chdir(os.getenv('LOCALAPPDATA')+'\\\\adb\\\\platform-tools\\\\')\n",
    "    subprocess.run(\"adb kill-server\")\n",
    "    if emu == 'nox': print(subprocess.run(\"adb connect 127.0.0.1:62001\",stdout=subprocess.PIPE,stderr=subprocess.STDOUT).stdout.decode('utf-8'))\n",
    "    else: print(subprocess.run(\"adb devices\",stdout=subprocess.PIPE,stderr=subprocess.STDOUT).stdout.decode('utf-8'))\n",
    "\n",
    "def close():\n",
    "    subprocess.run(\"adb kill-server\")\n",
    "    \n",
    "def tap(x,y):\n",
    "    subprocess.run(\"adb shell input tap {x} {y}\".format(x=x,y=y))\n",
    "    \n",
    "def screenshot():\n",
    "    im = Image.open(BytesIO(subprocess.run(\"adb exec-out screencap -p\",stdout=subprocess.PIPE).stdout)).convert('RGB')\n",
    "    im.save(\"screencap.png\")\n",
    "    return im\n",
    "\n",
    "def pixel_color(loc):\n",
    "    return screenshot().getpixel(loc)\n",
    "\n",
    "def random_tap():\n",
    "    tap(random.randrange(300,1300),random.randrange(300,500))\n",
    "\n",
    "def color_match(one,two):\n",
    "    if len([n for n,v in enumerate(one) if v-20 < two[n] < v+20])==3: return True\n",
    "    else: return False\n",
    "\n",
    "def img_match(capture,template):\n",
    "    capture = cv2.cvtColor(numpy.array(capture), cv2.COLOR_RGB2GRAY)\n",
    "    sift = cv2.SIFT_create()\n",
    "    kp1, des1 = sift.detectAndCompute(template,None)\n",
    "    kp2, des2 = sift.detectAndCompute(capture,None)\n",
    "    matches = cv2.BFMatcher().knnMatch(des1,des2,k=2)\n",
    "    good = [m for m,n in matches if m.distance < 0.6*n.distance] # 0.75 originally\n",
    "    dst_pt = [kp2[m.trainIdx].pt for m in good]\n",
    "    #plt.imshow(cv2.drawMatchesKnn(template,kp1,capture,kp2,[[m] for m in good],None,flags=cv2.DrawMatchesFlags_NOT_DRAW_SINGLE_POINTS)),plt.show()\n",
    "    return tuple([numpy.mean(x) for x in zip(*dst_pt)])\n",
    "\n",
    "def results(stats):\n",
    "    return print('Result: Won '+str(stats.runs-stats.lost)+'/'+str(stats.runs)+' battles')\n",
    "\n",
    "def rank_up():\n",
    "    random_tap() # clear rank up screen\n",
    "    sleep(1)\n",
    "\n",
    "def start_run():\n",
    "    print('Starting run '+str(stats.runs+1))\n",
    "    tap(1400,830) # start\n",
    "    if color_match(pixel_color(val['refill_loc']),val['refill_color']):\n",
    "        tap(900,650) # buy\n",
    "        sleep(1)\n",
    "        tap(1400,830) # start\n",
    "    if False: # TODO placeholder for full inventory\n",
    "        sleep(1)\n",
    "        tap(1400,830) # start\n",
    "\n",
    "def win_run():\n",
    "    stats.runs += 1\n",
    "    print('Win')\n",
    "    random_tap() # clear victory screen\n",
    "    sleep(3)\n",
    "    # Wanted -> [confirm] - Hunts only\n",
    "    if color_match(pixel_color(val['want_loc']),val['want_color']):\n",
    "        tap(850,715) # confirm\n",
    "        sleep(2)\n",
    "    tap(1450,830) # confirm\n",
    "    sleep(2)\n",
    "    # Urgent -> [confirm] - Adventure only\n",
    "    if color_match(pixel_color(val['urg_loc']),val['urg_color']):\n",
    "        tap(670,650)\n",
    "        sleep(1)\n",
    "    tap(1400,830) # try again\n",
    "    sleep(1)\n",
    "\n",
    "def lose_run():\n",
    "    stats.runs += 1\n",
    "    stats.lost += 1\n",
    "    print('Loss')\n",
    "    tap(1400,830) # try again"
   ]
  },
  {
   "cell_type": "code",
   "execution_count": 2,
   "metadata": {},
   "outputs": [],
   "source": [
    "def hunt_loop():\n",
    "    print('Farming hunts')\n",
    "    while True:\n",
    "        im = screenshot()\n",
    "        if False: rank_up() # TODO\n",
    "        if color_match(im.getpixel(val['start_loc']),val['start_color']): start_run()\n",
    "        elif color_match(im.getpixel(val['loss_loc']),val['loss_color']): lose_run()\n",
    "        elif color_match(im.getpixel(val['win_loc']),val['win_color']): win_run()\n",
    "        if stats.runs == max_runs: return results(stats)\n",
    "        sleep(3)\n",
    "\n",
    "def adventure_loop():\n",
    "    print('Farming adventure')\n",
    "    while True:\n",
    "        im = screenshot()\n",
    "        if False: rank_up() # TODO\n",
    "        if color_match(im.getpixel(val['start_loc']),val['start_color']): start_run()\n",
    "        elif color_match(im.getpixel(val['loss_loc']),val['loss_color']): lose_run()\n",
    "        elif color_match(im.getpixel(val['win_loc']),val['win_color']):\n",
    "            win_run()\n",
    "            sleep(1)\n",
    "            tap(1400,830) # select supporter\n",
    "        if stats.runs == max_runs: return results(stats)\n",
    "        sleep(3)"
   ]
  },
  {
   "cell_type": "code",
   "execution_count": 6,
   "metadata": {
    "tags": []
   },
   "outputs": [
    {
     "name": "stdout",
     "output_type": "stream",
     "text": [
      "* daemon not running; starting now at tcp:5037\n",
      "* daemon started successfully\n",
      "connected to 127.0.0.1:62001\n",
      "\n"
     ]
    }
   ],
   "source": [
    "emu = 'nox' # options are 'nox' and 'bluestacks'\n",
    "start(emu)"
   ]
  },
  {
   "cell_type": "code",
   "execution_count": 4,
   "metadata": {
    "tags": []
   },
   "outputs": [],
   "source": [
    "max_runs = 100\n",
    "hunt_loop()"
   ]
  },
  {
   "cell_type": "code",
   "execution_count": null,
   "metadata": {},
   "outputs": [],
   "source": []
  }
 ],
 "metadata": {
  "kernelspec": {
   "display_name": "Python 3",
   "language": "python",
   "name": "python3"
  },
  "language_info": {
   "codemirror_mode": {
    "name": "ipython",
    "version": 3
   },
   "file_extension": ".py",
   "mimetype": "text/x-python",
   "name": "python",
   "nbconvert_exporter": "python",
   "pygments_lexer": "ipython3",
   "version": "3.8.3"
  }
 },
 "nbformat": 4,
 "nbformat_minor": 4
}
